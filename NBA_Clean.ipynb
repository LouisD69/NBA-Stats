{
 "cells": [
  {
   "cell_type": "markdown",
   "metadata": {},
   "source": [
    "# Imports"
   ]
  },
  {
   "cell_type": "code",
   "execution_count": 1,
   "metadata": {},
   "outputs": [],
   "source": [
    "import pandas as pd\n",
    "import numpy as np"
   ]
  },
  {
   "cell_type": "markdown",
   "metadata": {},
   "source": [
    "# Read from Files"
   ]
  },
  {
   "cell_type": "code",
   "execution_count": 2,
   "metadata": {},
   "outputs": [],
   "source": [
    "games_df = pd.read_csv('games.csv')\n",
    "gdetails_df = pd.read_csv('games_details.csv')\n",
    "players_df = pd.read_csv('players.csv')\n",
    "teams_df = pd.read_csv('teams.csv')"
   ]
  },
  {
   "cell_type": "markdown",
   "metadata": {},
   "source": [
    "# Save To CSV"
   ]
  },
  {
   "cell_type": "code",
   "execution_count": 3,
   "metadata": {},
   "outputs": [],
   "source": [
    "gd_cols = [\"GAME_ID\", \"PLAYER_ID\", \"TEAM_ID\", \"START_POSITION\", \"PTS\", \"AST\", \"REB\"]\n",
    "gdetails_df.to_csv('cleaned/gdetails.csv', index=False, columns = gd_cols)"
   ]
  },
  {
   "cell_type": "code",
   "execution_count": 4,
   "metadata": {},
   "outputs": [],
   "source": [
    "players_cols = [\"PLAYER_ID\", \"TEAM_ID\", \"PLAYER_NAME\", \"SEASON\"]\n",
    "players_df.to_csv('cleaned/players.csv', index=False, columns = players_cols)"
   ]
  },
  {
   "cell_type": "code",
   "execution_count": 5,
   "metadata": {},
   "outputs": [],
   "source": [
    "teams_cols = [\"TEAM_ID\", \"CITY\", \"NICKNAME\", \"ABBREVIATION\"]\n",
    "teams_df.to_csv('cleaned/teams.csv', index=False, columns = teams_cols)"
   ]
  },
  {
   "cell_type": "markdown",
   "metadata": {},
   "source": [
    "# Pre-process"
   ]
  },
  {
   "cell_type": "code",
   "execution_count": 6,
   "metadata": {},
   "outputs": [],
   "source": [
    "games_df[\"MONTH_DATE_EST\"] = pd.DatetimeIndex(games_df['GAME_DATE_EST']).month\n",
    "games_df[\"YEAR_DATE_EST\"] = pd.DatetimeIndex(games_df['GAME_DATE_EST']).year\n",
    "games_df[\"GAME_DATE_EST\"] = pd.DatetimeIndex(games_df['GAME_DATE_EST']).day\n"
   ]
  },
  {
   "cell_type": "code",
   "execution_count": 7,
   "metadata": {},
   "outputs": [],
   "source": [
    "games_cols = [\"GAME_ID\", \"GAME_DATE_EST\", \"MONTH_DATE_EST\", \"YEAR_DATE_EST\", \"SEASON\", \"HOME_TEAM_ID\", \"VISITOR_TEAM_ID\", \"PTS_home\", \"PTS_away\", \"HOME_TEAM_WINS\"]\n",
    "games_df.to_csv('cleaned/games.csv', index=False, columns = games_cols)"
   ]
  }
 ],
 "metadata": {
  "kernelspec": {
   "display_name": "Python 3",
   "language": "python",
   "name": "python3"
  },
  "language_info": {
   "codemirror_mode": {
    "name": "ipython",
    "version": 3
   },
   "file_extension": ".py",
   "mimetype": "text/x-python",
   "name": "python",
   "nbconvert_exporter": "python",
   "pygments_lexer": "ipython3",
   "version": "3.7.6"
  }
 },
 "nbformat": 4,
 "nbformat_minor": 4
}
